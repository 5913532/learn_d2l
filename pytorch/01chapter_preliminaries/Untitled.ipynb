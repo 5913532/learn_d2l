{
 "cells": [
  {
   "cell_type": "code",
   "execution_count": 1,
   "id": "677f1fc2-9e7f-491b-b4d1-f4d2ee63bf3c",
   "metadata": {},
   "outputs": [],
   "source": [
    "import torch"
   ]
  },
  {
   "cell_type": "code",
   "execution_count": 2,
   "id": "de2480c0-5bc0-40d9-88db-1c708c52c971",
   "metadata": {},
   "outputs": [
    {
     "data": {
      "text/plain": [
       "'1.11.0'"
      ]
     },
     "execution_count": 2,
     "metadata": {},
     "output_type": "execute_result"
    }
   ],
   "source": [
    "torch.__version__\n"
   ]
  },
  {
   "cell_type": "code",
   "execution_count": null,
   "id": "21d31bf2-24a8-40a0-999b-c4c654466c1c",
   "metadata": {},
   "outputs": [
    {
     "name": "stdout",
     "output_type": "stream",
     "text": [
      "Python 3.8.10 (default, Jun  4 2021, 15:09:15) \n",
      "[GCC 7.5.0] :: Anaconda, Inc. on linux\n",
      "Type \"help\", \"copyright\", \"credits\" or \"license\" for more information.\n",
      ">>> "
     ]
    }
   ],
   "source": [
    "!python"
   ]
  },
  {
   "cell_type": "code",
   "execution_count": null,
   "id": "4245eeb0-2815-436e-a3be-aa086ef88509",
   "metadata": {},
   "outputs": [],
   "source": []
  }
 ],
 "metadata": {
  "kernelspec": {
   "display_name": "d2l",
   "language": "python",
   "name": "d2l"
  },
  "language_info": {
   "codemirror_mode": {
    "name": "ipython",
    "version": 3
   },
   "file_extension": ".py",
   "mimetype": "text/x-python",
   "name": "python",
   "nbconvert_exporter": "python",
   "pygments_lexer": "ipython3",
   "version": "3.9.18"
  }
 },
 "nbformat": 4,
 "nbformat_minor": 5
}
